{
 "cells": [
  {
   "cell_type": "code",
   "execution_count": 146,
   "metadata": {},
   "outputs": [
    {
     "name": "stdout",
     "output_type": "stream",
     "text": [
      "Shortest interval length (seconds): 30\n",
      "\n",
      "\n",
      "Longest interval length (seconds): 180\n",
      "\n",
      "\n",
      "Total run time (minutes): 45\n",
      "\n",
      "\n",
      "Total run time: 46.0 minutes\n",
      "Number of intervals: 27\n",
      "\n",
      "\n",
      "Interval 1: 30 seconds fast\n",
      "Interval 2: 120 seconds fast\n",
      "Interval 3: 150 seconds fast\n",
      "Interval 4: 60 seconds slow\n",
      "Interval 5: 30 seconds slow\n",
      "Interval 6: 180 seconds steady\n",
      "Interval 7: 180 seconds fast\n",
      "Interval 8: 120 seconds fast\n",
      "Interval 9: 30 seconds steady\n",
      "Interval 10: 30 seconds fast\n",
      "Interval 11: 30 seconds steady\n",
      "Interval 12: 90 seconds fast\n",
      "Interval 13: 90 seconds steady\n",
      "Interval 14: 90 seconds steady\n",
      "Interval 15: 150 seconds fast\n",
      "Interval 16: 150 seconds fast\n",
      "Interval 17: 180 seconds fast\n",
      "Interval 18: 90 seconds steady\n",
      "Interval 19: 180 seconds slow\n",
      "Interval 20: 30 seconds steady\n",
      "Interval 21: 150 seconds steady\n",
      "Interval 22: 150 seconds steady\n",
      "Interval 23: 90 seconds steady\n",
      "Interval 24: 60 seconds fast\n",
      "Interval 25: 120 seconds fast\n",
      "Interval 26: 90 seconds steady\n",
      "Interval 27: 90 seconds fast\n"
     ]
    }
   ],
   "source": [
    "# IMPORTS\n",
    "import random\n",
    "from IPython.display import clear_output\n",
    "\n",
    "# USER INPUTS\n",
    "\n",
    "# Minimum interval length\n",
    "while True:\n",
    "    try:\n",
    "        print(\"\\n\")\n",
    "        min_interval = int(input(\"Shortest interval length (seconds): \"))\n",
    "    except:\n",
    "        print(\"\\n\")\n",
    "        print(\"ERROR: Must input an integer.\")\n",
    "        continue\n",
    "    if min_interval <= 0:\n",
    "        print(\"\\n\")\n",
    "        print(\"ERROR: Must input a positive integer.\")\n",
    "        continue\n",
    "    else:\n",
    "        break\n",
    "        \n",
    "# Maximum interval length\n",
    "while True:\n",
    "    try:\n",
    "        print(\"\\n\")\n",
    "        max_interval = int(input(\"Longest interval length (seconds): \"))\n",
    "    except:\n",
    "        print(\"\\n\")\n",
    "        print(\"ERROR: Must input an integer.\")\n",
    "        continue\n",
    "    if max_interval <= 0:\n",
    "        print(\"\\n\")\n",
    "        print(\"ERROR: Must input a positive integer.\")\n",
    "        continue\n",
    "    elif max_interval < min_interval:\n",
    "        print(\"\\n\")\n",
    "        print(f\"ERROR: Cannot have a maximum interval length shorter than the previously-defined minimum interval length ({min_interval} seconds)!\")\n",
    "    else:\n",
    "        break\n",
    "        \n",
    "# Total run time\n",
    "while True:\n",
    "    try:\n",
    "        print(\"\\n\")\n",
    "        total_run_time = int(input(\"Total run time (minutes): \"))\n",
    "    except:\n",
    "        print(\"\\n\")\n",
    "        print(\"ERROR: Must input an integer.\")\n",
    "        continue\n",
    "    if max_interval <= 0:\n",
    "        print(\"\\n\")\n",
    "        print(\"ERROR: Must input a positive integer.\")\n",
    "        continue\n",
    "    elif total_run_time < max_interval/60:\n",
    "        print(\"\\n\")\n",
    "        print(f\"ERROR: Cannot run for less time than the previously-defined maximum interval length ({max_interval/60} minutes)!\")\n",
    "    else:\n",
    "        break\n",
    "\n",
    "# INITIALIZE\n",
    "running_time = 0\n",
    "interval = 0\n",
    "interval_list = []\n",
    "pace_list = []\n",
    "\n",
    "# BUILD\n",
    "\n",
    "# Interval length options\n",
    "time_options = list(range(min_interval,max_interval+min_interval,min_interval))\n",
    "\n",
    "# Create randomized intervals\n",
    "while running_time < total_run_time * 60:\n",
    "    interval = random.choices(time_options)[0]\n",
    "    interval_list.append(interval)\n",
    "    running_time += interval\n",
    "\n",
    "# Create a randomized pace list\n",
    "for x in range(0,len(interval_list)):\n",
    "    pace_list.append(random.randint(1,3))\n",
    "\n",
    "for i in range(0,len(pace_list)):\n",
    "    if pace_list[i] == 1:\n",
    "        pace_list[i] = \"slow\"\n",
    "    elif pace_list[i] == 2:\n",
    "        pace_list[i] = \"steady\"\n",
    "    elif pace_list[i] == 3:\n",
    "        pace_list[i] = \"fast\"\n",
    "\n",
    "clear_output()\n",
    "print(f\"Total run time: {running_time/60} minutes\")\n",
    "print(f\"Number of intervals: {len(interval_list)}\")\n",
    "print(\"\\n\")\n",
    "\n",
    "for i in range(1,len(pace_list)+1):\n",
    "    print(f\"Interval {i}: {interval_list[i-1]} seconds {pace_list[i-1]}\")\n"
   ]
  },
  {
   "cell_type": "code",
   "execution_count": 144,
   "metadata": {},
   "outputs": [
    {
     "data": {
      "text/plain": [
       "25"
      ]
     },
     "execution_count": 144,
     "metadata": {},
     "output_type": "execute_result"
    }
   ],
   "source": [
    "len(interval_list)"
   ]
  },
  {
   "cell_type": "code",
   "execution_count": 145,
   "metadata": {},
   "outputs": [
    {
     "data": {
      "text/plain": [
       "25"
      ]
     },
     "execution_count": 145,
     "metadata": {},
     "output_type": "execute_result"
    }
   ],
   "source": [
    "len(pace_list)"
   ]
  },
  {
   "cell_type": "code",
   "execution_count": 105,
   "metadata": {},
   "outputs": [
    {
     "data": {
      "text/plain": [
       "[1, 1, 3, 1, 1, 2, 3, 1, 3, 2, 1, 3, 1, 2, 2, 1, 1, 2, 2, 2, 1]"
      ]
     },
     "execution_count": 105,
     "metadata": {},
     "output_type": "execute_result"
    }
   ],
   "source": [
    "pace_list"
   ]
  },
  {
   "cell_type": "code",
   "execution_count": 100,
   "metadata": {},
   "outputs": [
    {
     "data": {
      "text/plain": [
       "[0, 1, 2, 3, 4, 5, 6, 7, 8, 9]"
      ]
     },
     "execution_count": 100,
     "metadata": {},
     "output_type": "execute_result"
    }
   ],
   "source": [
    "test_list"
   ]
  },
  {
   "cell_type": "code",
   "execution_count": 42,
   "metadata": {
    "collapsed": true
   },
   "outputs": [],
   "source": [
    "test_list.append(interval)"
   ]
  },
  {
   "cell_type": "code",
   "execution_count": 43,
   "metadata": {},
   "outputs": [
    {
     "data": {
      "text/plain": [
       "[[30], [150]]"
      ]
     },
     "execution_count": 43,
     "metadata": {},
     "output_type": "execute_result"
    }
   ],
   "source": [
    "test_list"
   ]
  },
  {
   "cell_type": "code",
   "execution_count": 44,
   "metadata": {
    "collapsed": true
   },
   "outputs": [],
   "source": [
    "time_options = list(range(min_interval,max_interval+min_interval,min_interval))"
   ]
  },
  {
   "cell_type": "code",
   "execution_count": 56,
   "metadata": {},
   "outputs": [
    {
     "data": {
      "text/plain": [
       "[30, 60, 90, 120, 150, 180]"
      ]
     },
     "execution_count": 56,
     "metadata": {},
     "output_type": "execute_result"
    }
   ],
   "source": [
    "time_options"
   ]
  },
  {
   "cell_type": "code",
   "execution_count": 46,
   "metadata": {},
   "outputs": [
    {
     "data": {
      "text/plain": [
       "30"
      ]
     },
     "execution_count": 46,
     "metadata": {},
     "output_type": "execute_result"
    }
   ],
   "source": [
    "time_options[0]"
   ]
  },
  {
   "cell_type": "code",
   "execution_count": 57,
   "metadata": {
    "collapsed": true
   },
   "outputs": [],
   "source": [
    "test_list = []"
   ]
  },
  {
   "cell_type": "code",
   "execution_count": 58,
   "metadata": {},
   "outputs": [
    {
     "data": {
      "text/plain": [
       "[]"
      ]
     },
     "execution_count": 58,
     "metadata": {},
     "output_type": "execute_result"
    }
   ],
   "source": [
    "test_list"
   ]
  },
  {
   "cell_type": "code",
   "execution_count": 59,
   "metadata": {
    "collapsed": true
   },
   "outputs": [],
   "source": [
    "test_list.append(random.choices(time_options))"
   ]
  },
  {
   "cell_type": "code",
   "execution_count": 60,
   "metadata": {},
   "outputs": [
    {
     "data": {
      "text/plain": [
       "[[120]]"
      ]
     },
     "execution_count": 60,
     "metadata": {},
     "output_type": "execute_result"
    }
   ],
   "source": [
    "test_list"
   ]
  },
  {
   "cell_type": "code",
   "execution_count": 61,
   "metadata": {},
   "outputs": [
    {
     "data": {
      "text/plain": [
       "[30, 60, 90, 120, 150, 180]"
      ]
     },
     "execution_count": 61,
     "metadata": {},
     "output_type": "execute_result"
    }
   ],
   "source": [
    "time_options"
   ]
  },
  {
   "cell_type": "code",
   "execution_count": 66,
   "metadata": {},
   "outputs": [
    {
     "data": {
      "text/plain": [
       "30"
      ]
     },
     "execution_count": 66,
     "metadata": {},
     "output_type": "execute_result"
    }
   ],
   "source": [
    "random.choices(time_options)[0]"
   ]
  },
  {
   "cell_type": "raw",
   "metadata": {},
   "source": [
    "len(time_options)"
   ]
  },
  {
   "cell_type": "code",
   "execution_count": 76,
   "metadata": {},
   "outputs": [
    {
     "name": "stdout",
     "output_type": "stream",
     "text": [
      "10\n"
     ]
    },
    {
     "data": {
      "text/plain": [
       "'10'"
      ]
     },
     "execution_count": 76,
     "metadata": {},
     "output_type": "execute_result"
    }
   ],
   "source": [
    "input(\"\")"
   ]
  },
  {
   "cell_type": "code",
   "execution_count": 138,
   "metadata": {
    "collapsed": true
   },
   "outputs": [],
   "source": [
    "test_list = [1,1,2,2,3,3,1,1,2,2,3,3,4]"
   ]
  },
  {
   "cell_type": "code",
   "execution_count": 139,
   "metadata": {
    "collapsed": true
   },
   "outputs": [],
   "source": [
    "for i in range(0,len(test_list)):\n",
    "    if test_list[i] == 1:\n",
    "        test_list[i] = \"slow\"\n",
    "    elif test_list[i] == 2:\n",
    "        test_list[i] = \"steady\"\n",
    "    elif test_list[i] == 3:\n",
    "        test_list[i] = \"fast\""
   ]
  },
  {
   "cell_type": "code",
   "execution_count": 140,
   "metadata": {},
   "outputs": [
    {
     "data": {
      "text/plain": [
       "['slow',\n",
       " 'slow',\n",
       " 'steady',\n",
       " 'steady',\n",
       " 'fast',\n",
       " 'fast',\n",
       " 'slow',\n",
       " 'slow',\n",
       " 'steady',\n",
       " 'steady',\n",
       " 'fast',\n",
       " 'fast',\n",
       " 4]"
      ]
     },
     "execution_count": 140,
     "metadata": {},
     "output_type": "execute_result"
    }
   ],
   "source": [
    "test_list"
   ]
  },
  {
   "cell_type": "code",
   "execution_count": null,
   "metadata": {
    "collapsed": true
   },
   "outputs": [],
   "source": []
  }
 ],
 "metadata": {
  "kernelspec": {
   "display_name": "Python 3",
   "language": "python",
   "name": "python3"
  },
  "language_info": {
   "codemirror_mode": {
    "name": "ipython",
    "version": 3
   },
   "file_extension": ".py",
   "mimetype": "text/x-python",
   "name": "python",
   "nbconvert_exporter": "python",
   "pygments_lexer": "ipython3",
   "version": "3.6.3"
  }
 },
 "nbformat": 4,
 "nbformat_minor": 2
}
